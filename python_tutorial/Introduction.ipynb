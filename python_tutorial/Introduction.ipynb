{
 "cells": [
  {
   "metadata": {
    "ExecuteTime": {
     "end_time": "2025-09-06T06:20:58.457437Z",
     "start_time": "2025-09-06T06:20:58.442565Z"
    }
   },
   "cell_type": "code",
   "source": [
    "from ipywidgets.widgets.widget_tagsinput import NumbersInputBase\n",
    "\n",
    "print(\"hello\")"
   ],
   "id": "3ed69e64e0ba99b0",
   "outputs": [
    {
     "name": "stdout",
     "output_type": "stream",
     "text": [
      "hello\n"
     ]
    }
   ],
   "execution_count": 1
  },
  {
   "metadata": {
    "ExecuteTime": {
     "end_time": "2025-09-06T06:23:13.126645Z",
     "start_time": "2025-09-06T06:23:13.115627Z"
    }
   },
   "cell_type": "code",
   "source": [
    "# this is the first comment\n",
    "spam = 1 # this is the second comment\n",
    "spam"
   ],
   "id": "d20f33069af82bf4",
   "outputs": [
    {
     "data": {
      "text/plain": [
       "1"
      ]
     },
     "execution_count": 2,
     "metadata": {},
     "output_type": "execute_result"
    }
   ],
   "execution_count": 2
  },
  {
   "metadata": {
    "ExecuteTime": {
     "end_time": "2025-09-06T06:23:21.301743Z",
     "start_time": "2025-09-06T06:23:21.295092Z"
    }
   },
   "cell_type": "code",
   "source": "print(spam)",
   "id": "34bfa2f626926e",
   "outputs": [
    {
     "name": "stdout",
     "output_type": "stream",
     "text": [
      "1\n"
     ]
    }
   ],
   "execution_count": 3
  },
  {
   "metadata": {
    "ExecuteTime": {
     "end_time": "2025-09-06T06:23:44.328304Z",
     "start_time": "2025-09-06T06:23:44.319563Z"
    }
   },
   "cell_type": "code",
   "source": [
    "a = \"hello\"\n",
    "a"
   ],
   "id": "bf21fc7945c98f8f",
   "outputs": [
    {
     "data": {
      "text/plain": [
       "'hello'"
      ]
     },
     "execution_count": 4,
     "metadata": {},
     "output_type": "execute_result"
    }
   ],
   "execution_count": 4
  },
  {
   "metadata": {
    "ExecuteTime": {
     "end_time": "2025-09-06T06:23:49.534700Z",
     "start_time": "2025-09-06T06:23:49.527166Z"
    }
   },
   "cell_type": "code",
   "source": "print(a)",
   "id": "94802d9666419021",
   "outputs": [
    {
     "name": "stdout",
     "output_type": "stream",
     "text": [
      "hello\n"
     ]
    }
   ],
   "execution_count": 5
  },
  {
   "metadata": {
    "ExecuteTime": {
     "end_time": "2025-09-06T06:24:46.626480Z",
     "start_time": "2025-09-06T06:24:46.617973Z"
    }
   },
   "cell_type": "code",
   "source": [
    "text = \"# This is not a comment becasue it's inside a quotes\"\n",
    "text"
   ],
   "id": "38dec4e51e8c6536",
   "outputs": [
    {
     "data": {
      "text/plain": [
       "\"# This is not a comment becasue it's inside a quotes\""
      ]
     },
     "execution_count": 6,
     "metadata": {},
     "output_type": "execute_result"
    }
   ],
   "execution_count": 6
  },
  {
   "metadata": {},
   "cell_type": "markdown",
   "source": "Using Python as a Calculator",
   "id": "e491ca9d2d3203b4"
  },
  {
   "metadata": {},
   "cell_type": "markdown",
   "source": "Numbers",
   "id": "428df723ae4b528"
  },
  {
   "metadata": {
    "ExecuteTime": {
     "end_time": "2025-09-06T06:26:24.514987Z",
     "start_time": "2025-09-06T06:26:24.507639Z"
    }
   },
   "cell_type": "code",
   "source": "2 + 2",
   "id": "7b2a0aa5b65f127d",
   "outputs": [
    {
     "data": {
      "text/plain": [
       "4"
      ]
     },
     "execution_count": 7,
     "metadata": {},
     "output_type": "execute_result"
    }
   ],
   "execution_count": 7
  },
  {
   "metadata": {
    "ExecuteTime": {
     "end_time": "2025-09-06T06:26:42.012624Z",
     "start_time": "2025-09-06T06:26:42.006565Z"
    }
   },
   "cell_type": "code",
   "source": "50 - 5*6",
   "id": "deb97ccf8257ef2d",
   "outputs": [
    {
     "data": {
      "text/plain": [
       "20"
      ]
     },
     "execution_count": 8,
     "metadata": {},
     "output_type": "execute_result"
    }
   ],
   "execution_count": 8
  },
  {
   "metadata": {
    "ExecuteTime": {
     "end_time": "2025-09-06T06:27:10.568038Z",
     "start_time": "2025-09-06T06:27:10.561102Z"
    }
   },
   "cell_type": "code",
   "source": "(50-5*6)/4",
   "id": "85983c972bd7ff11",
   "outputs": [
    {
     "data": {
      "text/plain": [
       "5.0"
      ]
     },
     "execution_count": 9,
     "metadata": {},
     "output_type": "execute_result"
    }
   ],
   "execution_count": 9
  },
  {
   "metadata": {
    "ExecuteTime": {
     "end_time": "2025-09-06T06:27:27.997236Z",
     "start_time": "2025-09-06T06:27:27.989029Z"
    }
   },
   "cell_type": "code",
   "source": "40/5  #division always returns a floating-point number",
   "id": "4badede3ce0f374",
   "outputs": [
    {
     "data": {
      "text/plain": [
       "8.0"
      ]
     },
     "execution_count": 10,
     "metadata": {},
     "output_type": "execute_result"
    }
   ],
   "execution_count": 10
  },
  {
   "metadata": {},
   "cell_type": "markdown",
   "source": "The integer numbers (e.g. 2, 4, 20) have type int, the ones with a fractional part (e.g. 5.0, 1.6) have type float. We will see more about numeric types later in the tutorial.",
   "id": "f3e33b8ad561e365"
  },
  {
   "metadata": {
    "ExecuteTime": {
     "end_time": "2025-09-06T06:28:57.571362Z",
     "start_time": "2025-09-06T06:28:57.562906Z"
    }
   },
   "cell_type": "code",
   "source": "17 / 3 # classic division returns a float",
   "id": "fb0caef1faaa062b",
   "outputs": [
    {
     "data": {
      "text/plain": [
       "5.666666666666667"
      ]
     },
     "execution_count": 11,
     "metadata": {},
     "output_type": "execute_result"
    }
   ],
   "execution_count": 11
  },
  {
   "metadata": {
    "ExecuteTime": {
     "end_time": "2025-09-06T06:29:05.192182Z",
     "start_time": "2025-09-06T06:29:05.184142Z"
    }
   },
   "cell_type": "code",
   "source": "17 // 3 # floor division discards the fractional part",
   "id": "90521209312aa406",
   "outputs": [
    {
     "data": {
      "text/plain": [
       "5"
      ]
     },
     "execution_count": 12,
     "metadata": {},
     "output_type": "execute_result"
    }
   ],
   "execution_count": 12
  },
  {
   "metadata": {
    "ExecuteTime": {
     "end_time": "2025-09-06T06:30:56.905977Z",
     "start_time": "2025-09-06T06:30:56.897692Z"
    }
   },
   "cell_type": "code",
   "source": "0.3 + 0.3",
   "id": "72b0d26e099c252e",
   "outputs": [
    {
     "data": {
      "text/plain": [
       "0.6"
      ]
     },
     "execution_count": 13,
     "metadata": {},
     "output_type": "execute_result"
    }
   ],
   "execution_count": 13
  },
  {
   "metadata": {
    "ExecuteTime": {
     "end_time": "2025-09-06T06:31:06.626112Z",
     "start_time": "2025-09-06T06:31:06.619373Z"
    }
   },
   "cell_type": "code",
   "source": "0.1 + 0.2",
   "id": "285f00cd4d656a69",
   "outputs": [
    {
     "data": {
      "text/plain": [
       "0.30000000000000004"
      ]
     },
     "execution_count": 14,
     "metadata": {},
     "output_type": "execute_result"
    }
   ],
   "execution_count": 14
  },
  {
   "metadata": {
    "ExecuteTime": {
     "end_time": "2025-09-06T06:31:23.138908Z",
     "start_time": "2025-09-06T06:31:23.130984Z"
    }
   },
   "cell_type": "code",
   "source": "0.1 + 0.1",
   "id": "96afb6e1b9c6131b",
   "outputs": [
    {
     "data": {
      "text/plain": [
       "0.2"
      ]
     },
     "execution_count": 15,
     "metadata": {},
     "output_type": "execute_result"
    }
   ],
   "execution_count": 15
  },
  {
   "metadata": {
    "ExecuteTime": {
     "end_time": "2025-09-06T06:31:35.315856Z",
     "start_time": "2025-09-06T06:31:35.307632Z"
    }
   },
   "cell_type": "code",
   "source": "0.2 + 0.2",
   "id": "bb7b86387fabe681",
   "outputs": [
    {
     "data": {
      "text/plain": [
       "0.4"
      ]
     },
     "execution_count": 16,
     "metadata": {},
     "output_type": "execute_result"
    }
   ],
   "execution_count": 16
  },
  {
   "metadata": {
    "ExecuteTime": {
     "end_time": "2025-09-06T06:31:42.917003Z",
     "start_time": "2025-09-06T06:31:42.910531Z"
    }
   },
   "cell_type": "code",
   "source": "0.4 - 0.1",
   "id": "9070e6577f25af98",
   "outputs": [
    {
     "data": {
      "text/plain": [
       "0.30000000000000004"
      ]
     },
     "execution_count": 17,
     "metadata": {},
     "output_type": "execute_result"
    }
   ],
   "execution_count": 17
  },
  {
   "metadata": {
    "ExecuteTime": {
     "end_time": "2025-09-06T06:38:37.805274Z",
     "start_time": "2025-09-06T06:38:37.800531Z"
    }
   },
   "cell_type": "code",
   "source": [
    "a= 0.1 + 0.2\n",
    "print(round(a,2)) # tells Python to round the number 0.3 to 2 decimal places."
   ],
   "id": "4aeb5adcdf0c78c0",
   "outputs": [
    {
     "name": "stdout",
     "output_type": "stream",
     "text": [
      "0.3\n"
     ]
    }
   ],
   "execution_count": 21
  },
  {
   "metadata": {
    "ExecuteTime": {
     "end_time": "2025-09-06T06:39:37.145572Z",
     "start_time": "2025-09-06T06:39:37.138606Z"
    }
   },
   "cell_type": "code",
   "source": "5 * 2 #multiply",
   "id": "9b8a21566a2648c5",
   "outputs": [
    {
     "data": {
      "text/plain": [
       "10"
      ]
     },
     "execution_count": 22,
     "metadata": {},
     "output_type": "execute_result"
    }
   ],
   "execution_count": 22
  },
  {
   "metadata": {
    "ExecuteTime": {
     "end_time": "2025-09-06T06:39:43.448328Z",
     "start_time": "2025-09-06T06:39:43.441526Z"
    }
   },
   "cell_type": "code",
   "source": "5 ** 2 # squared",
   "id": "97e2996f0751234b",
   "outputs": [
    {
     "data": {
      "text/plain": [
       "25"
      ]
     },
     "execution_count": 23,
     "metadata": {},
     "output_type": "execute_result"
    }
   ],
   "execution_count": 23
  },
  {
   "metadata": {
    "ExecuteTime": {
     "end_time": "2025-09-06T06:40:21.548188Z",
     "start_time": "2025-09-06T06:40:21.540515Z"
    }
   },
   "cell_type": "code",
   "source": "2 ** 7 # 2 to the power 7",
   "id": "6797a25c07418bfa",
   "outputs": [
    {
     "data": {
      "text/plain": [
       "128"
      ]
     },
     "execution_count": 24,
     "metadata": {},
     "output_type": "execute_result"
    }
   ],
   "execution_count": 24
  },
  {
   "metadata": {
    "ExecuteTime": {
     "end_time": "2025-09-06T06:41:24.044153Z",
     "start_time": "2025-09-06T06:41:24.035058Z"
    }
   },
   "cell_type": "code",
   "source": [
    "# assign the value to a variable\n",
    "width = 20\n",
    "height =  5 *9"
   ],
   "id": "bae280b8b7afe49",
   "outputs": [],
   "execution_count": 25
  },
  {
   "metadata": {
    "ExecuteTime": {
     "end_time": "2025-09-06T06:41:34.849338Z",
     "start_time": "2025-09-06T06:41:34.839110Z"
    }
   },
   "cell_type": "code",
   "source": "width * height",
   "id": "8b4add34c0b1b586",
   "outputs": [
    {
     "data": {
      "text/plain": [
       "900"
      ]
     },
     "execution_count": 26,
     "metadata": {},
     "output_type": "execute_result"
    }
   ],
   "execution_count": 26
  },
  {
   "metadata": {
    "ExecuteTime": {
     "end_time": "2025-09-06T06:42:14.147084Z",
     "start_time": "2025-09-06T06:42:14.116666Z"
    }
   },
   "cell_type": "code",
   "source": "n  # If a variable is not “defined” (assigned a value), trying to use it will give you an error",
   "id": "f2d8091e064bda34",
   "outputs": [
    {
     "ename": "NameError",
     "evalue": "name 'n' is not defined",
     "output_type": "error",
     "traceback": [
      "\u001B[31m---------------------------------------------------------------------------\u001B[39m",
      "\u001B[31mNameError\u001B[39m                                 Traceback (most recent call last)",
      "\u001B[36mCell\u001B[39m\u001B[36m \u001B[39m\u001B[32mIn[28]\u001B[39m\u001B[32m, line 1\u001B[39m\n\u001B[32m----> \u001B[39m\u001B[32m1\u001B[39m \u001B[43mn\u001B[49m  \u001B[38;5;66;03m# If a variable is not “defined” (assigned a value), trying to use it will give you an error\u001B[39;00m\n",
      "\u001B[31mNameError\u001B[39m: name 'n' is not defined"
     ]
    }
   ],
   "execution_count": 28
  },
  {
   "metadata": {
    "ExecuteTime": {
     "end_time": "2025-09-06T06:44:03.420490Z",
     "start_time": "2025-09-06T06:44:03.413688Z"
    }
   },
   "cell_type": "code",
   "source": [
    "# operators with mixed type operands convert the integer operand to floating point\n",
    "4 * 3.75 -1"
   ],
   "id": "e0c0eb91ac703825",
   "outputs": [
    {
     "data": {
      "text/plain": [
       "14.0"
      ]
     },
     "execution_count": 29,
     "metadata": {},
     "output_type": "execute_result"
    }
   ],
   "execution_count": 29
  },
  {
   "metadata": {
    "ExecuteTime": {
     "end_time": "2025-09-06T06:45:49.663222Z",
     "start_time": "2025-09-06T06:45:49.655384Z"
    }
   },
   "cell_type": "code",
   "source": [
    "# In interactive mode, the last printed expression is assigned to the variable _.\n",
    "\n",
    "tax = 12.5 / 100\n",
    "price = 100.50\n",
    "price * tax"
   ],
   "id": "ad8053d746f7483e",
   "outputs": [
    {
     "data": {
      "text/plain": [
       "12.5625"
      ]
     },
     "execution_count": 30,
     "metadata": {},
     "output_type": "execute_result"
    }
   ],
   "execution_count": 30
  },
  {
   "metadata": {
    "ExecuteTime": {
     "end_time": "2025-09-06T06:46:37.232187Z",
     "start_time": "2025-09-06T06:46:37.223707Z"
    }
   },
   "cell_type": "code",
   "source": "price + _  # price + (price * tax)",
   "id": "2980c66359ad108",
   "outputs": [
    {
     "data": {
      "text/plain": [
       "113.0625"
      ]
     },
     "execution_count": 31,
     "metadata": {},
     "output_type": "execute_result"
    }
   ],
   "execution_count": 31
  },
  {
   "metadata": {
    "ExecuteTime": {
     "end_time": "2025-09-06T06:47:38.425728Z",
     "start_time": "2025-09-06T06:47:38.417344Z"
    }
   },
   "cell_type": "code",
   "source": "round(_, 2)",
   "id": "78040bd762a9a5e",
   "outputs": [
    {
     "data": {
      "text/plain": [
       "113.06"
      ]
     },
     "execution_count": 32,
     "metadata": {},
     "output_type": "execute_result"
    }
   ],
   "execution_count": 32
  },
  {
   "metadata": {},
   "cell_type": "markdown",
   "source": "Text",
   "id": "9b3aa803d019b206"
  },
  {
   "metadata": {},
   "cell_type": "markdown",
   "source": "Python can manipulate text (represented by type str, so-called “strings”) as well as numbers. This includes characters “!”, words “rabbit”, names “Paris”, sentences “Got your back.”, etc. “Yay! :)”. They can be enclosed in single quotes ('...') or double quotes (\"...\") with the same result.",
   "id": "62470185198bfe73"
  },
  {
   "metadata": {},
   "cell_type": "code",
   "outputs": [],
   "execution_count": null,
   "source": "",
   "id": "f9bb5f7954418c3e"
  }
 ],
 "metadata": {
  "kernelspec": {
   "display_name": "pyod",
   "language": "python",
   "name": "pyod"
  },
  "language_info": {
   "codemirror_mode": {
    "name": "ipython",
    "version": 2
   },
   "file_extension": ".py",
   "mimetype": "text/x-python",
   "name": "python",
   "nbconvert_exporter": "python",
   "pygments_lexer": "ipython2",
   "version": "2.7.6"
  }
 },
 "nbformat": 4,
 "nbformat_minor": 5
}
