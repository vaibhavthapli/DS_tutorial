{
 "cells": [
  {
   "metadata": {
    "ExecuteTime": {
     "end_time": "2025-09-06T06:20:58.457437Z",
     "start_time": "2025-09-06T06:20:58.442565Z"
    }
   },
   "cell_type": "code",
   "source": "print(\"hello\")",
   "id": "3ed69e64e0ba99b0",
   "outputs": [
    {
     "name": "stdout",
     "output_type": "stream",
     "text": [
      "hello\n"
     ]
    }
   ],
   "execution_count": 1
  },
  {
   "metadata": {},
   "cell_type": "code",
   "outputs": [],
   "execution_count": null,
   "source": "",
   "id": "d20f33069af82bf4"
  }
 ],
 "metadata": {
  "kernelspec": {
   "display_name": "pyod",
   "language": "python",
   "name": "pyod"
  },
  "language_info": {
   "codemirror_mode": {
    "name": "ipython",
    "version": 2
   },
   "file_extension": ".py",
   "mimetype": "text/x-python",
   "name": "python",
   "nbconvert_exporter": "python",
   "pygments_lexer": "ipython2",
   "version": "2.7.6"
  }
 },
 "nbformat": 4,
 "nbformat_minor": 5
}
