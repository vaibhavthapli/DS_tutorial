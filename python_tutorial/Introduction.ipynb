{
 "cells": [
  {
   "metadata": {
    "ExecuteTime": {
     "end_time": "2025-09-06T07:52:10.084326Z",
     "start_time": "2025-09-06T07:52:10.011303Z"
    }
   },
   "cell_type": "code",
   "source": [
    "from ipywidgets.widgets.widget_tagsinput import NumbersInputBase\n",
    "\n",
    "print(\"hello\")"
   ],
   "id": "3ed69e64e0ba99b0",
   "outputs": [
    {
     "name": "stdout",
     "output_type": "stream",
     "text": [
      "hello\n"
     ]
    }
   ],
   "execution_count": 50
  },
  {
   "metadata": {
    "ExecuteTime": {
     "end_time": "2025-09-06T07:52:10.098730Z",
     "start_time": "2025-09-06T07:52:10.093280Z"
    }
   },
   "cell_type": "code",
   "source": [
    "# this is the first comment\n",
    "spam = 1 # this is the second comment\n",
    "spam"
   ],
   "id": "d20f33069af82bf4",
   "outputs": [
    {
     "data": {
      "text/plain": [
       "1"
      ]
     },
     "execution_count": 51,
     "metadata": {},
     "output_type": "execute_result"
    }
   ],
   "execution_count": 51
  },
  {
   "metadata": {
    "ExecuteTime": {
     "end_time": "2025-09-06T07:52:10.118220Z",
     "start_time": "2025-09-06T07:52:10.113767Z"
    }
   },
   "cell_type": "code",
   "source": "print(spam)",
   "id": "34bfa2f626926e",
   "outputs": [
    {
     "name": "stdout",
     "output_type": "stream",
     "text": [
      "1\n"
     ]
    }
   ],
   "execution_count": 52
  },
  {
   "metadata": {
    "ExecuteTime": {
     "end_time": "2025-09-06T07:52:10.141370Z",
     "start_time": "2025-09-06T07:52:10.135226Z"
    }
   },
   "cell_type": "code",
   "source": [
    "a = \"hello\"\n",
    "a"
   ],
   "id": "bf21fc7945c98f8f",
   "outputs": [
    {
     "data": {
      "text/plain": [
       "'hello'"
      ]
     },
     "execution_count": 53,
     "metadata": {},
     "output_type": "execute_result"
    }
   ],
   "execution_count": 53
  },
  {
   "metadata": {
    "ExecuteTime": {
     "end_time": "2025-09-06T07:52:10.162089Z",
     "start_time": "2025-09-06T07:52:10.157737Z"
    }
   },
   "cell_type": "code",
   "source": "print(a)",
   "id": "94802d9666419021",
   "outputs": [
    {
     "name": "stdout",
     "output_type": "stream",
     "text": [
      "hello\n"
     ]
    }
   ],
   "execution_count": 54
  },
  {
   "metadata": {
    "ExecuteTime": {
     "end_time": "2025-09-06T07:52:10.183573Z",
     "start_time": "2025-09-06T07:52:10.178453Z"
    }
   },
   "cell_type": "code",
   "source": [
    "text = \"# This is not a comment becasue it's inside a quotes\"\n",
    "text"
   ],
   "id": "38dec4e51e8c6536",
   "outputs": [
    {
     "data": {
      "text/plain": [
       "\"# This is not a comment becasue it's inside a quotes\""
      ]
     },
     "execution_count": 55,
     "metadata": {},
     "output_type": "execute_result"
    }
   ],
   "execution_count": 55
  },
  {
   "metadata": {},
   "cell_type": "markdown",
   "source": "Using Python as a Calculator",
   "id": "e491ca9d2d3203b4"
  },
  {
   "metadata": {},
   "cell_type": "markdown",
   "source": "Numbers",
   "id": "428df723ae4b528"
  },
  {
   "metadata": {
    "ExecuteTime": {
     "end_time": "2025-09-06T07:52:10.204743Z",
     "start_time": "2025-09-06T07:52:10.199583Z"
    }
   },
   "cell_type": "code",
   "source": "2 + 2",
   "id": "7b2a0aa5b65f127d",
   "outputs": [
    {
     "data": {
      "text/plain": [
       "4"
      ]
     },
     "execution_count": 56,
     "metadata": {},
     "output_type": "execute_result"
    }
   ],
   "execution_count": 56
  },
  {
   "metadata": {
    "ExecuteTime": {
     "end_time": "2025-09-06T07:52:10.227502Z",
     "start_time": "2025-09-06T07:52:10.222153Z"
    }
   },
   "cell_type": "code",
   "source": "50 - 5*6",
   "id": "deb97ccf8257ef2d",
   "outputs": [
    {
     "data": {
      "text/plain": [
       "20"
      ]
     },
     "execution_count": 57,
     "metadata": {},
     "output_type": "execute_result"
    }
   ],
   "execution_count": 57
  },
  {
   "metadata": {
    "ExecuteTime": {
     "end_time": "2025-09-06T07:52:10.251636Z",
     "start_time": "2025-09-06T07:52:10.246509Z"
    }
   },
   "cell_type": "code",
   "source": "(50-5*6)/4",
   "id": "85983c972bd7ff11",
   "outputs": [
    {
     "data": {
      "text/plain": [
       "5.0"
      ]
     },
     "execution_count": 58,
     "metadata": {},
     "output_type": "execute_result"
    }
   ],
   "execution_count": 58
  },
  {
   "metadata": {
    "ExecuteTime": {
     "end_time": "2025-09-06T07:52:10.277034Z",
     "start_time": "2025-09-06T07:52:10.271644Z"
    }
   },
   "cell_type": "code",
   "source": "40/5  #division always returns a floating-point number",
   "id": "4badede3ce0f374",
   "outputs": [
    {
     "data": {
      "text/plain": [
       "8.0"
      ]
     },
     "execution_count": 59,
     "metadata": {},
     "output_type": "execute_result"
    }
   ],
   "execution_count": 59
  },
  {
   "metadata": {},
   "cell_type": "markdown",
   "source": "The integer numbers (e.g. 2, 4, 20) have type int, the ones with a fractional part (e.g. 5.0, 1.6) have type float. We will see more about numeric types later in the tutorial.",
   "id": "f3e33b8ad561e365"
  },
  {
   "metadata": {
    "ExecuteTime": {
     "end_time": "2025-09-06T07:52:10.318801Z",
     "start_time": "2025-09-06T07:52:10.313496Z"
    }
   },
   "cell_type": "code",
   "source": "17 / 3 # classic division returns a float",
   "id": "fb0caef1faaa062b",
   "outputs": [
    {
     "data": {
      "text/plain": [
       "5.666666666666667"
      ]
     },
     "execution_count": 60,
     "metadata": {},
     "output_type": "execute_result"
    }
   ],
   "execution_count": 60
  },
  {
   "metadata": {
    "ExecuteTime": {
     "end_time": "2025-09-06T07:52:10.361127Z",
     "start_time": "2025-09-06T07:52:10.355666Z"
    }
   },
   "cell_type": "code",
   "source": "17 // 3 # floor division discards the fractional part",
   "id": "90521209312aa406",
   "outputs": [
    {
     "data": {
      "text/plain": [
       "5"
      ]
     },
     "execution_count": 61,
     "metadata": {},
     "output_type": "execute_result"
    }
   ],
   "execution_count": 61
  },
  {
   "metadata": {
    "ExecuteTime": {
     "end_time": "2025-09-06T07:52:10.402170Z",
     "start_time": "2025-09-06T07:52:10.396136Z"
    }
   },
   "cell_type": "code",
   "source": "0.3 + 0.3",
   "id": "72b0d26e099c252e",
   "outputs": [
    {
     "data": {
      "text/plain": [
       "0.6"
      ]
     },
     "execution_count": 62,
     "metadata": {},
     "output_type": "execute_result"
    }
   ],
   "execution_count": 62
  },
  {
   "metadata": {
    "ExecuteTime": {
     "end_time": "2025-09-06T07:52:10.451392Z",
     "start_time": "2025-09-06T07:52:10.446298Z"
    }
   },
   "cell_type": "code",
   "source": "0.1 + 0.2",
   "id": "285f00cd4d656a69",
   "outputs": [
    {
     "data": {
      "text/plain": [
       "0.30000000000000004"
      ]
     },
     "execution_count": 63,
     "metadata": {},
     "output_type": "execute_result"
    }
   ],
   "execution_count": 63
  },
  {
   "metadata": {
    "ExecuteTime": {
     "end_time": "2025-09-06T07:52:10.491635Z",
     "start_time": "2025-09-06T07:52:10.486336Z"
    }
   },
   "cell_type": "code",
   "source": "0.1 + 0.1",
   "id": "96afb6e1b9c6131b",
   "outputs": [
    {
     "data": {
      "text/plain": [
       "0.2"
      ]
     },
     "execution_count": 64,
     "metadata": {},
     "output_type": "execute_result"
    }
   ],
   "execution_count": 64
  },
  {
   "metadata": {
    "ExecuteTime": {
     "end_time": "2025-09-06T07:52:10.515643Z",
     "start_time": "2025-09-06T07:52:10.510642Z"
    }
   },
   "cell_type": "code",
   "source": "0.2 + 0.2",
   "id": "bb7b86387fabe681",
   "outputs": [
    {
     "data": {
      "text/plain": [
       "0.4"
      ]
     },
     "execution_count": 65,
     "metadata": {},
     "output_type": "execute_result"
    }
   ],
   "execution_count": 65
  },
  {
   "metadata": {
    "ExecuteTime": {
     "end_time": "2025-09-06T07:52:10.554304Z",
     "start_time": "2025-09-06T07:52:10.548453Z"
    }
   },
   "cell_type": "code",
   "source": "0.4 - 0.1",
   "id": "9070e6577f25af98",
   "outputs": [
    {
     "data": {
      "text/plain": [
       "0.30000000000000004"
      ]
     },
     "execution_count": 66,
     "metadata": {},
     "output_type": "execute_result"
    }
   ],
   "execution_count": 66
  },
  {
   "metadata": {
    "ExecuteTime": {
     "end_time": "2025-09-06T07:52:10.606987Z",
     "start_time": "2025-09-06T07:52:10.601956Z"
    }
   },
   "cell_type": "code",
   "source": [
    "a= 0.1 + 0.2\n",
    "print(round(a,2)) # tells Python to round the number 0.3 to 2 decimal places."
   ],
   "id": "4aeb5adcdf0c78c0",
   "outputs": [
    {
     "name": "stdout",
     "output_type": "stream",
     "text": [
      "0.3\n"
     ]
    }
   ],
   "execution_count": 67
  },
  {
   "metadata": {
    "ExecuteTime": {
     "end_time": "2025-09-06T07:52:10.641451Z",
     "start_time": "2025-09-06T07:52:10.636451Z"
    }
   },
   "cell_type": "code",
   "source": "5 * 2 #multiply",
   "id": "9b8a21566a2648c5",
   "outputs": [
    {
     "data": {
      "text/plain": [
       "10"
      ]
     },
     "execution_count": 68,
     "metadata": {},
     "output_type": "execute_result"
    }
   ],
   "execution_count": 68
  },
  {
   "metadata": {
    "ExecuteTime": {
     "end_time": "2025-09-06T07:52:10.678739Z",
     "start_time": "2025-09-06T07:52:10.673384Z"
    }
   },
   "cell_type": "code",
   "source": "5 ** 2 # squared",
   "id": "97e2996f0751234b",
   "outputs": [
    {
     "data": {
      "text/plain": [
       "25"
      ]
     },
     "execution_count": 69,
     "metadata": {},
     "output_type": "execute_result"
    }
   ],
   "execution_count": 69
  },
  {
   "metadata": {
    "ExecuteTime": {
     "end_time": "2025-09-06T07:52:10.702126Z",
     "start_time": "2025-09-06T07:52:10.694754Z"
    }
   },
   "cell_type": "code",
   "source": "2 ** 7 # 2 to the power 7",
   "id": "6797a25c07418bfa",
   "outputs": [
    {
     "data": {
      "text/plain": [
       "128"
      ]
     },
     "execution_count": 70,
     "metadata": {},
     "output_type": "execute_result"
    }
   ],
   "execution_count": 70
  },
  {
   "metadata": {
    "ExecuteTime": {
     "end_time": "2025-09-06T07:52:10.732051Z",
     "start_time": "2025-09-06T07:52:10.727051Z"
    }
   },
   "cell_type": "code",
   "source": [
    "# assign the value to a variable\n",
    "width = 20\n",
    "height =  5 *9"
   ],
   "id": "bae280b8b7afe49",
   "outputs": [],
   "execution_count": 71
  },
  {
   "metadata": {
    "ExecuteTime": {
     "end_time": "2025-09-06T07:52:10.751399Z",
     "start_time": "2025-09-06T07:52:10.746362Z"
    }
   },
   "cell_type": "code",
   "source": "width * height",
   "id": "8b4add34c0b1b586",
   "outputs": [
    {
     "data": {
      "text/plain": [
       "900"
      ]
     },
     "execution_count": 72,
     "metadata": {},
     "output_type": "execute_result"
    }
   ],
   "execution_count": 72
  },
  {
   "metadata": {
    "ExecuteTime": {
     "end_time": "2025-09-06T07:52:10.799868Z",
     "start_time": "2025-09-06T07:52:10.771809Z"
    }
   },
   "cell_type": "code",
   "source": "n  # If a variable is not “defined” (assigned a value), trying to use it will give you an error",
   "id": "f2d8091e064bda34",
   "outputs": [
    {
     "ename": "NameError",
     "evalue": "name 'n' is not defined",
     "output_type": "error",
     "traceback": [
      "\u001B[31m---------------------------------------------------------------------------\u001B[39m",
      "\u001B[31mNameError\u001B[39m                                 Traceback (most recent call last)",
      "\u001B[36mCell\u001B[39m\u001B[36m \u001B[39m\u001B[32mIn[73]\u001B[39m\u001B[32m, line 1\u001B[39m\n\u001B[32m----> \u001B[39m\u001B[32m1\u001B[39m \u001B[43mn\u001B[49m  \u001B[38;5;66;03m# If a variable is not “defined” (assigned a value), trying to use it will give you an error\u001B[39;00m\n",
      "\u001B[31mNameError\u001B[39m: name 'n' is not defined"
     ]
    }
   ],
   "execution_count": 73
  },
  {
   "metadata": {
    "ExecuteTime": {
     "end_time": "2025-09-06T07:52:24.501603Z",
     "start_time": "2025-09-06T07:52:24.494769Z"
    }
   },
   "cell_type": "code",
   "source": [
    "# operators with mixed type operands convert the integer operand to floating point\n",
    "4 * 3.75 -1"
   ],
   "id": "e0c0eb91ac703825",
   "outputs": [
    {
     "data": {
      "text/plain": [
       "14.0"
      ]
     },
     "execution_count": 74,
     "metadata": {},
     "output_type": "execute_result"
    }
   ],
   "execution_count": 74
  },
  {
   "metadata": {
    "ExecuteTime": {
     "end_time": "2025-09-06T07:52:24.866254Z",
     "start_time": "2025-09-06T07:52:24.860220Z"
    }
   },
   "cell_type": "code",
   "source": [
    "# In interactive mode, the last printed expression is assigned to the variable _.\n",
    "\n",
    "tax = 12.5 / 100\n",
    "price = 100.50\n",
    "price * tax"
   ],
   "id": "ad8053d746f7483e",
   "outputs": [
    {
     "data": {
      "text/plain": [
       "12.5625"
      ]
     },
     "execution_count": 75,
     "metadata": {},
     "output_type": "execute_result"
    }
   ],
   "execution_count": 75
  },
  {
   "metadata": {
    "ExecuteTime": {
     "end_time": "2025-09-06T07:52:25.106651Z",
     "start_time": "2025-09-06T07:52:25.101376Z"
    }
   },
   "cell_type": "code",
   "source": "price + _  # price + (price * tax)",
   "id": "2980c66359ad108",
   "outputs": [
    {
     "data": {
      "text/plain": [
       "113.0625"
      ]
     },
     "execution_count": 76,
     "metadata": {},
     "output_type": "execute_result"
    }
   ],
   "execution_count": 76
  },
  {
   "metadata": {
    "ExecuteTime": {
     "end_time": "2025-09-06T07:52:25.306482Z",
     "start_time": "2025-09-06T07:52:25.301665Z"
    }
   },
   "cell_type": "code",
   "source": "round(_, 2)",
   "id": "78040bd762a9a5e",
   "outputs": [
    {
     "data": {
      "text/plain": [
       "113.06"
      ]
     },
     "execution_count": 77,
     "metadata": {},
     "output_type": "execute_result"
    }
   ],
   "execution_count": 77
  },
  {
   "metadata": {},
   "cell_type": "markdown",
   "source": "Text",
   "id": "9b3aa803d019b206"
  },
  {
   "metadata": {},
   "cell_type": "markdown",
   "source": "Python can manipulate text (represented by type str, so-called “strings”) as well as numbers. This includes characters “!”, words “rabbit”, names “Paris”, sentences “Got your back.”, etc. “Yay! :)”. They can be enclosed in single quotes ('...') or double quotes (\"...\") with the same result.",
   "id": "62470185198bfe73"
  },
  {
   "metadata": {
    "ExecuteTime": {
     "end_time": "2025-09-06T07:52:25.858246Z",
     "start_time": "2025-09-06T07:52:25.853213Z"
    }
   },
   "cell_type": "code",
   "source": "'spam eggs' #single quotes",
   "id": "f9bb5f7954418c3e",
   "outputs": [
    {
     "data": {
      "text/plain": [
       "'spam eggs'"
      ]
     },
     "execution_count": 78,
     "metadata": {},
     "output_type": "execute_result"
    }
   ],
   "execution_count": 78
  },
  {
   "metadata": {
    "ExecuteTime": {
     "end_time": "2025-09-06T07:52:26.071702Z",
     "start_time": "2025-09-06T07:52:26.064759Z"
    }
   },
   "cell_type": "code",
   "source": "\"Paris rabbit got your back :) ! Yay !\" #double quotes",
   "id": "ff3fbf9feef60b9c",
   "outputs": [
    {
     "data": {
      "text/plain": [
       "'Paris rabbit got your back :) ! Yay !'"
      ]
     },
     "execution_count": 79,
     "metadata": {},
     "output_type": "execute_result"
    }
   ],
   "execution_count": 79
  },
  {
   "metadata": {
    "ExecuteTime": {
     "end_time": "2025-09-06T07:52:26.269542Z",
     "start_time": "2025-09-06T07:52:26.264711Z"
    }
   },
   "cell_type": "code",
   "source": "\" paris \"",
   "id": "a56c0015a752d0ac",
   "outputs": [
    {
     "data": {
      "text/plain": [
       "' paris '"
      ]
     },
     "execution_count": 80,
     "metadata": {},
     "output_type": "execute_result"
    }
   ],
   "execution_count": 80
  },
  {
   "metadata": {
    "ExecuteTime": {
     "end_time": "2025-09-06T07:52:26.471215Z",
     "start_time": "2025-09-06T07:52:26.465719Z"
    }
   },
   "cell_type": "code",
   "source": "'1975' # digits and numerals enclosed in quotes are also strings",
   "id": "b01032e55edc9e0",
   "outputs": [
    {
     "data": {
      "text/plain": [
       "'1975'"
      ]
     },
     "execution_count": 81,
     "metadata": {},
     "output_type": "execute_result"
    }
   ],
   "execution_count": 81
  },
  {
   "metadata": {},
   "cell_type": "markdown",
   "source": "In the Python shell, the string definition and output string can look different. The print() function produces a more readable output, by omitting the enclosing quotes and by printing escaped and special characters",
   "id": "2e803ba567e2c594"
  },
  {
   "metadata": {
    "ExecuteTime": {
     "end_time": "2025-09-06T07:52:26.890367Z",
     "start_time": "2025-09-06T07:52:26.883430Z"
    }
   },
   "cell_type": "code",
   "source": [
    "s = 'First line. \\nSecond line. \\nThird line'\n",
    "s"
   ],
   "id": "797440e690ab702f",
   "outputs": [
    {
     "data": {
      "text/plain": [
       "'First line. \\nSecond line. \\nThird line'"
      ]
     },
     "execution_count": 82,
     "metadata": {},
     "output_type": "execute_result"
    }
   ],
   "execution_count": 82
  },
  {
   "metadata": {
    "ExecuteTime": {
     "end_time": "2025-09-06T07:52:27.088825Z",
     "start_time": "2025-09-06T07:52:27.083778Z"
    }
   },
   "cell_type": "code",
   "source": "print(s)",
   "id": "696474f264baefe6",
   "outputs": [
    {
     "name": "stdout",
     "output_type": "stream",
     "text": [
      "First line. \n",
      "Second line. \n",
      "Third line\n"
     ]
    }
   ],
   "execution_count": 83
  },
  {
   "metadata": {},
   "cell_type": "markdown",
   "source": "Strings can be concatenated (glued together) with the + operator, and repeated with *",
   "id": "706544042f4fe72c"
  },
  {
   "metadata": {
    "ExecuteTime": {
     "end_time": "2025-09-06T07:52:27.682720Z",
     "start_time": "2025-09-06T07:52:27.675884Z"
    }
   },
   "cell_type": "code",
   "source": [
    "# 3 times 'un', followed by 'ium'\n",
    "3* 'un' + 'ium'"
   ],
   "id": "dd1ca2b72e6b3032",
   "outputs": [
    {
     "data": {
      "text/plain": [
       "'unununium'"
      ]
     },
     "execution_count": 84,
     "metadata": {},
     "output_type": "execute_result"
    }
   ],
   "execution_count": 84
  },
  {
   "metadata": {
    "ExecuteTime": {
     "end_time": "2025-09-06T07:52:27.884076Z",
     "start_time": "2025-09-06T07:52:27.877700Z"
    }
   },
   "cell_type": "code",
   "source": "'Vai' 'bhav'",
   "id": "fbe2d21ae2faa651",
   "outputs": [
    {
     "data": {
      "text/plain": [
       "'Vaibhav'"
      ]
     },
     "execution_count": 85,
     "metadata": {},
     "output_type": "execute_result"
    }
   ],
   "execution_count": 85
  },
  {
   "metadata": {
    "ExecuteTime": {
     "end_time": "2025-09-06T07:52:28.085495Z",
     "start_time": "2025-09-06T07:52:28.077659Z"
    }
   },
   "cell_type": "code",
   "source": "'Vai' 'bhav' 'Thapli'",
   "id": "e09ee9901b5f265d",
   "outputs": [
    {
     "data": {
      "text/plain": [
       "'VaibhavThapli'"
      ]
     },
     "execution_count": 86,
     "metadata": {},
     "output_type": "execute_result"
    }
   ],
   "execution_count": 86
  },
  {
   "metadata": {},
   "cell_type": "markdown",
   "source": "This feature is particularly useful when you want to break long strings",
   "id": "208810a5d78ae736"
  },
  {
   "metadata": {
    "ExecuteTime": {
     "end_time": "2025-09-06T07:52:28.476635Z",
     "start_time": "2025-09-06T07:52:28.461148Z"
    }
   },
   "cell_type": "code",
   "source": [
    "text = ('Put several strings within parentheses'\n",
    "        'to have them joined together.')\n",
    "text"
   ],
   "id": "b6aecf8553f59f4d",
   "outputs": [
    {
     "data": {
      "text/plain": [
       "'Put several strings within parenthesesto have them joined together.'"
      ]
     },
     "execution_count": 87,
     "metadata": {},
     "output_type": "execute_result"
    }
   ],
   "execution_count": 87
  },
  {
   "metadata": {},
   "cell_type": "markdown",
   "source": "Slicing / Indexing",
   "id": "4c21c208b9c712d3"
  },
  {
   "metadata": {
    "ExecuteTime": {
     "end_time": "2025-09-06T07:52:28.890259Z",
     "start_time": "2025-09-06T07:52:28.884807Z"
    }
   },
   "cell_type": "code",
   "source": "word = 'Python'",
   "id": "4a658bc41b9aeb7d",
   "outputs": [],
   "execution_count": 88
  },
  {
   "metadata": {
    "ExecuteTime": {
     "end_time": "2025-09-06T07:52:29.109641Z",
     "start_time": "2025-09-06T07:52:29.100360Z"
    }
   },
   "cell_type": "code",
   "source": "word[0]",
   "id": "72c43d3d15e2f40",
   "outputs": [
    {
     "data": {
      "text/plain": [
       "'P'"
      ]
     },
     "execution_count": 89,
     "metadata": {},
     "output_type": "execute_result"
    }
   ],
   "execution_count": 89
  },
  {
   "metadata": {
    "ExecuteTime": {
     "end_time": "2025-09-06T07:52:29.328391Z",
     "start_time": "2025-09-06T07:52:29.321846Z"
    }
   },
   "cell_type": "code",
   "source": "word[0:2]",
   "id": "c1367beefa7ac06a",
   "outputs": [
    {
     "data": {
      "text/plain": [
       "'Py'"
      ]
     },
     "execution_count": 90,
     "metadata": {},
     "output_type": "execute_result"
    }
   ],
   "execution_count": 90
  },
  {
   "metadata": {
    "ExecuteTime": {
     "end_time": "2025-09-06T07:52:29.528246Z",
     "start_time": "2025-09-06T07:52:29.521913Z"
    }
   },
   "cell_type": "code",
   "source": "word[:2]",
   "id": "cabec02e2c2b046a",
   "outputs": [
    {
     "data": {
      "text/plain": [
       "'Py'"
      ]
     },
     "execution_count": 91,
     "metadata": {},
     "output_type": "execute_result"
    }
   ],
   "execution_count": 91
  },
  {
   "metadata": {
    "ExecuteTime": {
     "end_time": "2025-09-06T07:52:29.726194Z",
     "start_time": "2025-09-06T07:52:29.719071Z"
    }
   },
   "cell_type": "code",
   "source": "word[0:6]",
   "id": "a511b304a68f8b89",
   "outputs": [
    {
     "data": {
      "text/plain": [
       "'Python'"
      ]
     },
     "execution_count": 92,
     "metadata": {},
     "output_type": "execute_result"
    }
   ],
   "execution_count": 92
  },
  {
   "metadata": {
    "ExecuteTime": {
     "end_time": "2025-09-06T07:52:45.302876Z",
     "start_time": "2025-09-06T07:52:45.295244Z"
    }
   },
   "cell_type": "code",
   "source": "word[5]",
   "id": "898a32938452c1c",
   "outputs": [
    {
     "data": {
      "text/plain": [
       "'n'"
      ]
     },
     "execution_count": 94,
     "metadata": {},
     "output_type": "execute_result"
    }
   ],
   "execution_count": 94
  },
  {
   "metadata": {
    "ExecuteTime": {
     "end_time": "2025-09-06T07:53:29.129529Z",
     "start_time": "2025-09-06T07:53:29.123183Z"
    }
   },
   "cell_type": "code",
   "source": "word[-1]",
   "id": "af0021ae70da3344",
   "outputs": [
    {
     "data": {
      "text/plain": [
       "'n'"
      ]
     },
     "execution_count": 95,
     "metadata": {},
     "output_type": "execute_result"
    }
   ],
   "execution_count": 95
  },
  {
   "metadata": {
    "ExecuteTime": {
     "end_time": "2025-09-06T07:57:27.471899Z",
     "start_time": "2025-09-06T07:57:27.464008Z"
    }
   },
   "cell_type": "code",
   "source": "word[::-1]",
   "id": "49e7b7c0294e476b",
   "outputs": [
    {
     "data": {
      "text/plain": [
       "'nohtyP'"
      ]
     },
     "execution_count": 109,
     "metadata": {},
     "output_type": "execute_result"
    }
   ],
   "execution_count": 109
  },
  {
   "metadata": {
    "ExecuteTime": {
     "end_time": "2025-09-06T07:58:09.460877Z",
     "start_time": "2025-09-06T07:58:09.453015Z"
    }
   },
   "cell_type": "code",
   "source": "word[::-2]\n",
   "id": "89494b44f11fcb24",
   "outputs": [
    {
     "data": {
      "text/plain": [
       "'nhy'"
      ]
     },
     "execution_count": 111,
     "metadata": {},
     "output_type": "execute_result"
    }
   ],
   "execution_count": 111
  },
  {
   "metadata": {},
   "cell_type": "markdown",
   "source": "list",
   "id": "fb0fdc9a50f95a03"
  },
  {
   "metadata": {
    "ExecuteTime": {
     "end_time": "2025-09-06T10:48:37.622187Z",
     "start_time": "2025-09-06T10:48:37.615996Z"
    }
   },
   "cell_type": "code",
   "source": "#data type of python",
   "id": "97505f5f27fe31c3",
   "outputs": [],
   "execution_count": 112
  },
  {
   "metadata": {
    "ExecuteTime": {
     "end_time": "2025-09-06T10:48:55.734484Z",
     "start_time": "2025-09-06T10:48:55.729030Z"
    }
   },
   "cell_type": "code",
   "source": [
    "squares = [1, 2, 3, 4, 5]\n",
    "squares"
   ],
   "id": "fc05c638d98a59d8",
   "outputs": [
    {
     "data": {
      "text/plain": [
       "[1, 2, 3, 4, 5]"
      ]
     },
     "execution_count": 113,
     "metadata": {},
     "output_type": "execute_result"
    }
   ],
   "execution_count": 113
  },
  {
   "metadata": {},
   "cell_type": "code",
   "outputs": [],
   "execution_count": null,
   "source": "",
   "id": "7fd573871a7a6cc6"
  }
 ],
 "metadata": {
  "kernelspec": {
   "display_name": "pyod",
   "language": "python",
   "name": "pyod"
  },
  "language_info": {
   "codemirror_mode": {
    "name": "ipython",
    "version": 2
   },
   "file_extension": ".py",
   "mimetype": "text/x-python",
   "name": "python",
   "nbconvert_exporter": "python",
   "pygments_lexer": "ipython2",
   "version": "2.7.6"
  }
 },
 "nbformat": 4,
 "nbformat_minor": 5
}
