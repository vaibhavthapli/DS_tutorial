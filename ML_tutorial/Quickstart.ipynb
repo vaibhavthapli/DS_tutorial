{
 "cells": [
  {
   "metadata": {},
   "cell_type": "markdown",
   "source": [
    "Pytorch\n",
    "\n",
    "Working with Data\n",
    "\n",
    "PyTorch has two primitives to work with data: torch.utils.data.DataLoader and torch.utils.data.Dataset. Dataset stores the samples and their corresponding labels, and DataLoader wraps an iterable around the Dataset.\n"
   ],
   "id": "f8707d0e5592573f"
  },
  {
   "metadata": {
    "ExecuteTime": {
     "end_time": "2025-09-13T10:52:36.821531Z",
     "start_time": "2025-09-13T10:52:33.367234Z"
    }
   },
   "cell_type": "code",
   "source": [
    "import torch\n",
    "\n",
    "print(\"Number of GPU: \", torch.cuda.device_count())\n",
    "print(\"GPU Name: \", torch.cuda.get_device_name())\n",
    "\n",
    "\n",
    "device = torch.device('cuda' if torch.cuda.is_available() else 'cpu')\n",
    "print('Using device:', device)"
   ],
   "id": "28c1ecb1217d19da",
   "outputs": [
    {
     "name": "stdout",
     "output_type": "stream",
     "text": [
      "Number of GPU:  1\n",
      "GPU Name:  NVIDIA GeForce GTX 1050 Ti\n",
      "Using device: cuda\n"
     ]
    }
   ],
   "execution_count": 1
  },
  {
   "cell_type": "code",
   "id": "initial_id",
   "metadata": {
    "collapsed": true,
    "ExecuteTime": {
     "end_time": "2025-09-13T10:52:44.086606Z",
     "start_time": "2025-09-13T10:52:42.827347Z"
    }
   },
   "source": [
    "import torch\n",
    "from torch import nn\n",
    "from torch.utils.data import DataLoader\n",
    "from torchvision import datasets\n",
    "from torchvision.transforms import ToTensor"
   ],
   "outputs": [],
   "execution_count": 2
  },
  {
   "metadata": {
    "ExecuteTime": {
     "end_time": "2025-09-13T10:52:47.285674Z",
     "start_time": "2025-09-13T10:52:46.649129Z"
    }
   },
   "cell_type": "code",
   "source": [
    "# Download training data from open datasets.\n",
    "training_data = datasets.FashionMNIST(\n",
    "    root=\"data\",\n",
    "    train=True,\n",
    "    download=True,\n",
    "    transform=ToTensor(),\n",
    ")\n",
    "\n",
    "# Download test data from open datasets.\n",
    "test_data = datasets.FashionMNIST(\n",
    "    root=\"data\",\n",
    "    train=False,\n",
    "    download=True,\n",
    "    transform=ToTensor(),\n",
    ")"
   ],
   "id": "b7d5dd1a097a7161",
   "outputs": [],
   "execution_count": 3
  },
  {
   "metadata": {
    "ExecuteTime": {
     "end_time": "2025-09-13T10:52:49.792571Z",
     "start_time": "2025-09-13T10:52:49.758965Z"
    }
   },
   "cell_type": "code",
   "source": [
    "batch_size = 64\n",
    "\n",
    "#create data loaders.\n",
    "train_dataloader = DataLoader(training_data, batch_size=batch_size, shuffle=True)\n",
    "test_dataloader = DataLoader(test_data, batch_size=batch_size, shuffle=True)\n",
    "\n",
    "for X, y in test_dataloader:\n",
    "    print(f\"Shape of X [N, C, H, W]: {X.shape}\")\n",
    "    print(f\"Shape of y: {y.shape} {y.dtype}\")\n",
    "    break\n"
   ],
   "id": "8370cafdab36deea",
   "outputs": [
    {
     "name": "stdout",
     "output_type": "stream",
     "text": [
      "Shape of X [N, C, H, W]: torch.Size([64, 1, 28, 28])\n",
      "Shape of y: torch.Size([64]) torch.int64\n"
     ]
    }
   ],
   "execution_count": 4
  },
  {
   "metadata": {
    "ExecuteTime": {
     "end_time": "2025-09-13T08:53:43.410294Z",
     "start_time": "2025-09-13T08:53:43.398203Z"
    }
   },
   "cell_type": "code",
   "source": "# creating Models",
   "id": "3b45639b0d29d7a4",
   "outputs": [],
   "execution_count": 4
  },
  {
   "metadata": {
    "ExecuteTime": {
     "end_time": "2025-09-13T10:52:52.615891Z",
     "start_time": "2025-09-13T10:52:52.608343Z"
    }
   },
   "cell_type": "code",
   "source": [
    "device = torch.accelerator.current_accelerator().type if torch.accelerator.is_available() else \"cpu\"\n",
    "print(f\"Using {device} device\")\n"
   ],
   "id": "fecf5157836c9e75",
   "outputs": [
    {
     "name": "stdout",
     "output_type": "stream",
     "text": [
      "Using cuda device\n"
     ]
    }
   ],
   "execution_count": 5
  },
  {
   "metadata": {
    "ExecuteTime": {
     "end_time": "2025-09-13T10:53:00.488150Z",
     "start_time": "2025-09-13T10:52:59.534166Z"
    }
   },
   "cell_type": "code",
   "source": [
    "# define model\n",
    "class NeuralNetwork(nn.Module):\n",
    "    def __init__(self):\n",
    "        super().__init__()\n",
    "        self.flatten = nn.Flatten()\n",
    "        self.linear_relu_stack = nn.Sequential(\n",
    "            nn.Linear(28 * 28, 512),\n",
    "            nn.ReLU(),\n",
    "            nn.Linear(512, 512),\n",
    "            nn.ReLU(),\n",
    "            nn.Linear(512, 10),\n",
    "        )\n",
    "\n",
    "    def forward(self, x):\n",
    "        x = self.flatten(x)\n",
    "        logits = self.linear_relu_stack(x)\n",
    "        return logits\n",
    "\n",
    "model = NeuralNetwork().to(device)\n",
    "print(model)\n"
   ],
   "id": "7b205f74be8321b1",
   "outputs": [
    {
     "name": "stdout",
     "output_type": "stream",
     "text": [
      "NeuralNetwork(\n",
      "  (flatten): Flatten(start_dim=1, end_dim=-1)\n",
      "  (linear_relu_stack): Sequential(\n",
      "    (0): Linear(in_features=784, out_features=512, bias=True)\n",
      "    (1): ReLU()\n",
      "    (2): Linear(in_features=512, out_features=512, bias=True)\n",
      "    (3): ReLU()\n",
      "    (4): Linear(in_features=512, out_features=10, bias=True)\n",
      "  )\n",
      ")\n"
     ]
    }
   ],
   "execution_count": 6
  },
  {
   "metadata": {
    "ExecuteTime": {
     "end_time": "2025-09-13T10:54:48.992530Z",
     "start_time": "2025-09-13T10:54:48.982804Z"
    }
   },
   "cell_type": "code",
   "source": [
    "# optimizing the Model Parameters\n",
    "# To train a model, we need a loss function and an optimizer."
   ],
   "id": "610f93fbeb95ca6a",
   "outputs": [],
   "execution_count": 7
  },
  {
   "metadata": {
    "ExecuteTime": {
     "end_time": "2025-09-13T10:55:22.339184Z",
     "start_time": "2025-09-13T10:55:22.331889Z"
    }
   },
   "cell_type": "code",
   "source": [
    "loss_fn = nn.CrossEntropyLoss()\n",
    "optimizer = torch.optim.SGD(model.parameters(), lr=1e-3)"
   ],
   "id": "47a9a4a959dcb190",
   "outputs": [],
   "execution_count": 8
  },
  {
   "metadata": {},
   "cell_type": "code",
   "outputs": [],
   "execution_count": null,
   "source": "# In a single training loop, the model makes predictions on the training dataset (fed to it in batches), and backpropagates the prediction error to adjust the model’s parameters.",
   "id": "ac57532f9328262f"
  },
  {
   "metadata": {
    "ExecuteTime": {
     "end_time": "2025-09-13T11:00:57.343785Z",
     "start_time": "2025-09-13T11:00:57.336845Z"
    }
   },
   "cell_type": "code",
   "source": [
    "def train(dataloader, model, loss_fn, optimizer):\n",
    "    size = len(dataloader.dataset)\n",
    "    model.train()\n",
    "    for batch, (X, y) in enumerate(dataloader):\n",
    "        X, y = X.to(device), y.to(device)\n",
    "\n",
    "        # Compute prediction error\n",
    "        pred = model(X)\n",
    "        loss = loss_fn(pred, y)\n",
    "\n",
    "        # Backpropagation\n",
    "        loss.backward()\n",
    "        optimizer.step()\n",
    "        optimizer.zero_grad()\n",
    "\n",
    "        if batch % 100 == 0:\n",
    "            loss, current = loss.item(), (batch + 1) * len(X)\n",
    "            print(f\"loss: {loss:>7f}  [{current:>5d}/{size:>5d}]\")"
   ],
   "id": "de591d5c4a28bb75",
   "outputs": [],
   "execution_count": 10
  },
  {
   "metadata": {
    "ExecuteTime": {
     "end_time": "2025-09-13T11:01:11.046870Z",
     "start_time": "2025-09-13T11:01:11.029106Z"
    }
   },
   "cell_type": "code",
   "source": "# We also check the model’s performance against the test dataset to ensure it is learning.",
   "id": "7bcf7a4e909be231",
   "outputs": [],
   "execution_count": 11
  },
  {
   "metadata": {
    "ExecuteTime": {
     "end_time": "2025-09-13T11:01:34.381253Z",
     "start_time": "2025-09-13T11:01:34.366597Z"
    }
   },
   "cell_type": "code",
   "source": [
    "def test(dataloader, model, loss_fn):\n",
    "    size = len(dataloader.dataset)\n",
    "    num_batches = len(dataloader)\n",
    "    model.eval()\n",
    "    test_loss, correct = 0, 0\n",
    "    with torch.no_grad():\n",
    "        for X, y in dataloader:\n",
    "            X, y = X.to(device), y.to(device)\n",
    "            pred = model(X)\n",
    "            test_loss += loss_fn(pred, y).item()\n",
    "            correct += (pred.argmax(1) == y).type(torch.float).sum().item()\n",
    "    test_loss /= num_batches\n",
    "    correct /= size\n",
    "    print(f\"Test Error: \\n Accuracy: {(100*correct):>0.1f}%, Avg loss: {test_loss:>8f} \\n\")"
   ],
   "id": "a25881923d475b76",
   "outputs": [],
   "execution_count": 12
  },
  {
   "metadata": {},
   "cell_type": "code",
   "outputs": [],
   "execution_count": null,
   "source": "# The training process is conducted over several iterations (epochs). During each epoch, the model learns parameters to make better predictions. We print the model’s accuracy and loss at each epoch; we’d like to see the accuracy increase and the loss decrease with every epoch.",
   "id": "c101e17a5d8c0b68"
  },
  {
   "metadata": {
    "ExecuteTime": {
     "end_time": "2025-09-13T11:06:17.789762Z",
     "start_time": "2025-09-13T11:04:38.611500Z"
    }
   },
   "cell_type": "code",
   "source": [
    "epochs = 10\n",
    "for t in range(epochs):\n",
    "    print(f\"Epoch {t+1}\\n-------------------------------\")\n",
    "    train(train_dataloader, model, loss_fn, optimizer)\n",
    "    test(test_dataloader, model, loss_fn)\n",
    "print(\"Done!\")"
   ],
   "id": "666c5e3d720a8501",
   "outputs": [
    {
     "name": "stdout",
     "output_type": "stream",
     "text": [
      "Epoch 1\n",
      "-------------------------------\n",
      "loss: 1.107929  [   64/60000]\n",
      "loss: 1.045792  [ 6464/60000]\n",
      "loss: 0.946625  [12864/60000]\n",
      "loss: 1.087713  [19264/60000]\n",
      "loss: 1.166425  [25664/60000]\n",
      "loss: 1.052570  [32064/60000]\n",
      "loss: 1.073726  [38464/60000]\n",
      "loss: 0.901367  [44864/60000]\n",
      "loss: 1.022231  [51264/60000]\n",
      "loss: 0.974303  [57664/60000]\n",
      "Test Error: \n",
      " Accuracy: 65.2%, Avg loss: 0.995949 \n",
      "\n",
      "Epoch 2\n",
      "-------------------------------\n",
      "loss: 1.090110  [   64/60000]\n",
      "loss: 0.978933  [ 6464/60000]\n",
      "loss: 0.947284  [12864/60000]\n",
      "loss: 1.129496  [19264/60000]\n",
      "loss: 0.874004  [25664/60000]\n",
      "loss: 0.825330  [32064/60000]\n",
      "loss: 0.988245  [38464/60000]\n",
      "loss: 0.951013  [44864/60000]\n",
      "loss: 1.025639  [51264/60000]\n",
      "loss: 0.897123  [57664/60000]\n",
      "Test Error: \n",
      " Accuracy: 67.4%, Avg loss: 0.923347 \n",
      "\n",
      "Epoch 3\n",
      "-------------------------------\n",
      "loss: 1.092561  [   64/60000]\n",
      "loss: 0.881014  [ 6464/60000]\n",
      "loss: 0.974063  [12864/60000]\n",
      "loss: 0.951928  [19264/60000]\n",
      "loss: 1.049029  [25664/60000]\n",
      "loss: 0.797995  [32064/60000]\n",
      "loss: 0.863195  [38464/60000]\n",
      "loss: 0.763015  [44864/60000]\n",
      "loss: 0.859782  [51264/60000]\n",
      "loss: 0.875637  [57664/60000]\n",
      "Test Error: \n",
      " Accuracy: 68.7%, Avg loss: 0.870444 \n",
      "\n",
      "Epoch 4\n",
      "-------------------------------\n",
      "loss: 0.950101  [   64/60000]\n",
      "loss: 0.849656  [ 6464/60000]\n",
      "loss: 0.955572  [12864/60000]\n",
      "loss: 0.739128  [19264/60000]\n",
      "loss: 0.878074  [25664/60000]\n",
      "loss: 0.819075  [32064/60000]\n",
      "loss: 0.863123  [38464/60000]\n",
      "loss: 0.788613  [44864/60000]\n",
      "loss: 0.943618  [51264/60000]\n",
      "loss: 0.840056  [57664/60000]\n",
      "Test Error: \n",
      " Accuracy: 69.3%, Avg loss: 0.830375 \n",
      "\n",
      "Epoch 5\n",
      "-------------------------------\n",
      "loss: 0.836051  [   64/60000]\n",
      "loss: 0.768925  [ 6464/60000]\n",
      "loss: 0.878885  [12864/60000]\n",
      "loss: 0.915565  [19264/60000]\n",
      "loss: 0.935130  [25664/60000]\n",
      "loss: 0.925813  [32064/60000]\n",
      "loss: 0.889598  [38464/60000]\n",
      "loss: 0.733231  [44864/60000]\n",
      "loss: 0.717312  [51264/60000]\n",
      "loss: 0.844668  [57664/60000]\n",
      "Test Error: \n",
      " Accuracy: 70.6%, Avg loss: 0.795641 \n",
      "\n",
      "Epoch 6\n",
      "-------------------------------\n",
      "loss: 0.947973  [   64/60000]\n",
      "loss: 0.766812  [ 6464/60000]\n",
      "loss: 0.706011  [12864/60000]\n",
      "loss: 0.763344  [19264/60000]\n",
      "loss: 0.818463  [25664/60000]\n",
      "loss: 0.745918  [32064/60000]\n",
      "loss: 0.812602  [38464/60000]\n",
      "loss: 0.952366  [44864/60000]\n",
      "loss: 0.666353  [51264/60000]\n",
      "loss: 0.988700  [57664/60000]\n",
      "Test Error: \n",
      " Accuracy: 71.4%, Avg loss: 0.769554 \n",
      "\n",
      "Epoch 7\n",
      "-------------------------------\n",
      "loss: 0.657883  [   64/60000]\n",
      "loss: 0.760423  [ 6464/60000]\n",
      "loss: 0.690432  [12864/60000]\n",
      "loss: 0.697589  [19264/60000]\n",
      "loss: 0.618825  [25664/60000]\n",
      "loss: 0.634562  [32064/60000]\n",
      "loss: 0.688676  [38464/60000]\n",
      "loss: 0.647355  [44864/60000]\n",
      "loss: 0.729160  [51264/60000]\n",
      "loss: 0.846420  [57664/60000]\n",
      "Test Error: \n",
      " Accuracy: 73.4%, Avg loss: 0.748127 \n",
      "\n",
      "Epoch 8\n",
      "-------------------------------\n",
      "loss: 0.869389  [   64/60000]\n",
      "loss: 0.703550  [ 6464/60000]\n",
      "loss: 0.639370  [12864/60000]\n",
      "loss: 0.645273  [19264/60000]\n",
      "loss: 0.704524  [25664/60000]\n",
      "loss: 0.547872  [32064/60000]\n",
      "loss: 0.918584  [38464/60000]\n",
      "loss: 0.774925  [44864/60000]\n",
      "loss: 0.663614  [51264/60000]\n",
      "loss: 0.737246  [57664/60000]\n",
      "Test Error: \n",
      " Accuracy: 73.7%, Avg loss: 0.726934 \n",
      "\n",
      "Epoch 9\n",
      "-------------------------------\n",
      "loss: 0.630201  [   64/60000]\n",
      "loss: 0.592590  [ 6464/60000]\n",
      "loss: 0.813456  [12864/60000]\n",
      "loss: 0.727009  [19264/60000]\n",
      "loss: 0.890078  [25664/60000]\n",
      "loss: 0.647403  [32064/60000]\n",
      "loss: 0.497703  [38464/60000]\n",
      "loss: 0.781834  [44864/60000]\n",
      "loss: 0.710669  [51264/60000]\n",
      "loss: 0.849541  [57664/60000]\n",
      "Test Error: \n",
      " Accuracy: 74.9%, Avg loss: 0.707649 \n",
      "\n",
      "Epoch 10\n",
      "-------------------------------\n",
      "loss: 0.843433  [   64/60000]\n",
      "loss: 0.608195  [ 6464/60000]\n",
      "loss: 0.697693  [12864/60000]\n",
      "loss: 0.888226  [19264/60000]\n",
      "loss: 0.720305  [25664/60000]\n",
      "loss: 0.591210  [32064/60000]\n",
      "loss: 0.696383  [38464/60000]\n",
      "loss: 0.751142  [44864/60000]\n",
      "loss: 0.819917  [51264/60000]\n",
      "loss: 0.631674  [57664/60000]\n",
      "Test Error: \n",
      " Accuracy: 75.9%, Avg loss: 0.692143 \n",
      "\n",
      "Done!\n"
     ]
    }
   ],
   "execution_count": 14
  },
  {
   "metadata": {
    "ExecuteTime": {
     "end_time": "2025-09-13T11:06:39.077312Z",
     "start_time": "2025-09-13T11:06:38.065445Z"
    }
   },
   "cell_type": "code",
   "source": [
    "torch.save(model.state_dict(), \"model.pth\")\n",
    "print(\"Saved PyTorch Model State to model.pth\")"
   ],
   "id": "93d14fc68fefb36f",
   "outputs": [
    {
     "name": "stdout",
     "output_type": "stream",
     "text": [
      "Saved PyTorch Model State to model.pth\n"
     ]
    }
   ],
   "execution_count": 15
  },
  {
   "metadata": {
    "ExecuteTime": {
     "end_time": "2025-09-13T11:07:24.312307Z",
     "start_time": "2025-09-13T11:07:23.306679Z"
    }
   },
   "cell_type": "code",
   "source": [
    "model = NeuralNetwork().to(device)\n",
    "model.load_state_dict(torch.load(\"model.pth\", weights_only=True))"
   ],
   "id": "a8f3dc2bd3ac3d0e",
   "outputs": [
    {
     "data": {
      "text/plain": [
       "<All keys matched successfully>"
      ]
     },
     "execution_count": 16,
     "metadata": {},
     "output_type": "execute_result"
    }
   ],
   "execution_count": 16
  },
  {
   "metadata": {
    "ExecuteTime": {
     "end_time": "2025-09-13T11:13:21.548303Z",
     "start_time": "2025-09-13T11:13:21.534620Z"
    }
   },
   "cell_type": "code",
   "source": [
    "classes = [\n",
    "    \"T-shirt/top\",\n",
    "    \"Trouser\",\n",
    "    \"Pullover\",\n",
    "    \"Dress\",\n",
    "    \"Coat\",\n",
    "    \"Sandal\",\n",
    "    \"Shirt\",\n",
    "    \"Sneaker\",\n",
    "    \"Bag\",\n",
    "    \"Ankle boot\",\n",
    "]\n",
    "\n",
    "model.eval()\n",
    "x, y = test_data[2][0], test_data[2][1]\n",
    "with torch.no_grad():\n",
    "    x = x.to(device)\n",
    "    pred = model(x)\n",
    "    predicted, actual = classes[pred[0].argmax(0)], classes[y]\n",
    "    print(f'Predicted: \"{predicted}\", Actual: \"{actual}\"')"
   ],
   "id": "472a687a452355cc",
   "outputs": [
    {
     "name": "stdout",
     "output_type": "stream",
     "text": [
      "Predicted: \"Trouser\", Actual: \"Trouser\"\n"
     ]
    }
   ],
   "execution_count": 30
  },
  {
   "metadata": {
    "ExecuteTime": {
     "end_time": "2025-09-13T11:13:55.066836Z",
     "start_time": "2025-09-13T11:13:52.707962Z"
    }
   },
   "cell_type": "code",
   "source": [
    "# predict all text data\n",
    "classes = [\n",
    "    \"T-shirt/top\", \"Trouser\", \"Pullover\", \"Dress\", \"Coat\",\n",
    "    \"Sandal\", \"Shirt\", \"Sneaker\", \"Bag\", \"Ankle boot\",\n",
    "]\n",
    "\n",
    "model.eval()  # Set model to evaluation mode\n",
    "predictions = []\n",
    "actuals = []\n",
    "\n",
    "from torch.utils.data import DataLoader\n",
    "\n",
    "test_loader = DataLoader(test_data, batch_size=64, shuffle=False)\n",
    "\n",
    "with torch.no_grad():\n",
    "    for X, y in test_loader:\n",
    "        X, y = X.to(device), y.to(device)\n",
    "        pred = model(X)  # Shape: [batch_size, num_classes]\n",
    "        predicted_indices = pred.argmax(dim=1)  # Index of max probability\n",
    "\n",
    "        # Convert indices to class names\n",
    "        predictions.extend([classes[i] for i in predicted_indices.cpu().numpy()])\n",
    "        actuals.extend([classes[i] for i in y.cpu().numpy()])\n"
   ],
   "id": "852a0932a3b7533",
   "outputs": [],
   "execution_count": 31
  },
  {
   "metadata": {
    "ExecuteTime": {
     "end_time": "2025-09-13T11:14:25.735653Z",
     "start_time": "2025-09-13T11:14:25.729649Z"
    }
   },
   "cell_type": "code",
   "source": [
    "for i in range(10):\n",
    "    print(f\"Predicted: {predictions[i]}, Actual: {actuals[i]}\")"
   ],
   "id": "2b53b565b2829e5f",
   "outputs": [
    {
     "name": "stdout",
     "output_type": "stream",
     "text": [
      "Predicted: Ankle boot, Actual: Ankle boot\n",
      "Predicted: Pullover, Actual: Pullover\n",
      "Predicted: Trouser, Actual: Trouser\n",
      "Predicted: Trouser, Actual: Trouser\n",
      "Predicted: Shirt, Actual: Shirt\n",
      "Predicted: Trouser, Actual: Trouser\n",
      "Predicted: Shirt, Actual: Coat\n",
      "Predicted: Shirt, Actual: Shirt\n",
      "Predicted: Sneaker, Actual: Sandal\n",
      "Predicted: Sneaker, Actual: Sneaker\n"
     ]
    }
   ],
   "execution_count": 32
  },
  {
   "metadata": {
    "ExecuteTime": {
     "end_time": "2025-09-13T11:14:41.372359Z",
     "start_time": "2025-09-13T11:14:41.366913Z"
    }
   },
   "cell_type": "code",
   "source": [
    "correct = sum([p == a for p, a in zip(predictions, actuals)])\n",
    "accuracy = correct / len(test_data) * 100\n",
    "print(f\"Accuracy: {accuracy:.2f}%\")\n"
   ],
   "id": "f99581ce1e04143b",
   "outputs": [
    {
     "name": "stdout",
     "output_type": "stream",
     "text": [
      "Accuracy: 75.87%\n"
     ]
    }
   ],
   "execution_count": 33
  }
 ],
 "metadata": {
  "kernelspec": {
   "display_name": "pyod",
   "language": "python",
   "name": "pyod"
  },
  "language_info": {
   "codemirror_mode": {
    "name": "ipython",
    "version": 2
   },
   "file_extension": ".py",
   "mimetype": "text/x-python",
   "name": "python",
   "nbconvert_exporter": "python",
   "pygments_lexer": "ipython2",
   "version": "2.7.6"
  }
 },
 "nbformat": 4,
 "nbformat_minor": 5
}
