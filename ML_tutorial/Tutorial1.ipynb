{
 "cells": [
  {
   "cell_type": "code",
   "id": "initial_id",
   "metadata": {
    "collapsed": true,
    "ExecuteTime": {
     "end_time": "2025-09-06T11:43:42.098593Z",
     "start_time": "2025-09-06T11:43:40.581731Z"
    }
   },
   "source": [
    "import numpy as np\n",
    "from sklearn import datasets"
   ],
   "outputs": [],
   "execution_count": 2
  },
  {
   "metadata": {
    "ExecuteTime": {
     "end_time": "2025-09-06T11:45:03.307462Z",
     "start_time": "2025-09-06T11:45:03.296466Z"
    }
   },
   "cell_type": "code",
   "source": "iris = datasets.load_iris()",
   "id": "69433e61746a59f6",
   "outputs": [],
   "execution_count": 4
  },
  {
   "metadata": {
    "ExecuteTime": {
     "end_time": "2025-09-06T11:45:04.114297Z",
     "start_time": "2025-09-06T11:45:04.108320Z"
    }
   },
   "cell_type": "code",
   "source": [
    "X = iris.data[: ,[2,3]]\n",
    "y = iris.target"
   ],
   "id": "1cf445c6847504f0",
   "outputs": [],
   "execution_count": 5
  },
  {
   "metadata": {
    "ExecuteTime": {
     "end_time": "2025-09-06T11:45:30.183323Z",
     "start_time": "2025-09-06T11:45:30.177241Z"
    }
   },
   "cell_type": "code",
   "source": "print('Class labels:', np.unique(y))",
   "id": "2e3a34689b6d4f56",
   "outputs": [
    {
     "name": "stdout",
     "output_type": "stream",
     "text": [
      "Class labels: [0 1 2]\n"
     ]
    }
   ],
   "execution_count": 6
  },
  {
   "metadata": {
    "ExecuteTime": {
     "end_time": "2025-09-06T11:52:47.941731Z",
     "start_time": "2025-09-06T11:52:47.892325Z"
    }
   },
   "cell_type": "code",
   "source": [
    "from sklearn.model_selection import train_test_split\n",
    "\n",
    "X_train, X_test, y_train, y_test = train_test_split(X, y, test_size=0.2, random_state=1, stratify=y)"
   ],
   "id": "eec6aac0dceae9a6",
   "outputs": [],
   "execution_count": 9
  },
  {
   "metadata": {},
   "cell_type": "markdown",
   "source": [
    "Meaning of each parameter:\n",
    "\n",
    "X → The features (independent variables).\n",
    "\n",
    "y → The labels/target (dependent variable).\n",
    "\n",
    "test_size=0.2 → 20% of the dataset will be used for testing, and 80% for training.\n",
    "\n",
    "random_state=1 → Ensures reproducibility.\n",
    "If you run the split multiple times, you’ll get the same result because the random seed is fixed.\n",
    "\n",
    "stratify=y → Ensures that the class distribution of y is preserved in both the train and test sets."
   ],
   "id": "917bf9cd3bbfea45"
  },
  {
   "metadata": {
    "ExecuteTime": {
     "end_time": "2025-09-06T11:55:46.771700Z",
     "start_time": "2025-09-06T11:55:46.763749Z"
    }
   },
   "cell_type": "code",
   "source": "print('Labels counts in y:', np.bincount(y))",
   "id": "f5f731f94657c8e4",
   "outputs": [
    {
     "name": "stdout",
     "output_type": "stream",
     "text": [
      "Labels counts in y: [50 50 50]\n"
     ]
    }
   ],
   "execution_count": 10
  },
  {
   "metadata": {
    "ExecuteTime": {
     "end_time": "2025-09-06T11:56:16.822156Z",
     "start_time": "2025-09-06T11:56:16.814891Z"
    }
   },
   "cell_type": "code",
   "source": "print('Labels counts in y_train:', np.bincount(y_train))",
   "id": "a3a6351417ba5753",
   "outputs": [
    {
     "name": "stdout",
     "output_type": "stream",
     "text": [
      "Labels counts in y_train: [40 40 40]\n"
     ]
    }
   ],
   "execution_count": 11
  },
  {
   "metadata": {
    "ExecuteTime": {
     "end_time": "2025-09-06T11:56:35.691255Z",
     "start_time": "2025-09-06T11:56:35.683659Z"
    }
   },
   "cell_type": "code",
   "source": "print('Labels counts in y_test:', np.bincount(y_test))",
   "id": "5f4d30de332fc22a",
   "outputs": [
    {
     "name": "stdout",
     "output_type": "stream",
     "text": [
      "Labels counts in y_test: [10 10 10]\n"
     ]
    }
   ],
   "execution_count": 12
  },
  {
   "metadata": {},
   "cell_type": "code",
   "outputs": [],
   "execution_count": null,
   "source": "",
   "id": "a40bc447276e2f59"
  }
 ],
 "metadata": {
  "kernelspec": {
   "display_name": "pyod",
   "language": "python",
   "name": "pyod"
  },
  "language_info": {
   "codemirror_mode": {
    "name": "ipython",
    "version": 2
   },
   "file_extension": ".py",
   "mimetype": "text/x-python",
   "name": "python",
   "nbconvert_exporter": "python",
   "pygments_lexer": "ipython2",
   "version": "2.7.6"
  }
 },
 "nbformat": 4,
 "nbformat_minor": 5
}
